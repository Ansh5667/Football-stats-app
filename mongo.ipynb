{
 "cells": [
  {
   "cell_type": "code",
   "execution_count": 1,
   "metadata": {
    "collapsed": true
   },
   "outputs": [],
   "source": [
    "import pymongo\n",
    "import random"
   ]
  },
  {
   "cell_type": "code",
   "execution_count": 2,
   "outputs": [],
   "source": [
    "client = pymongo.MongoClient('mongodb://localhost:27017/')\n",
    "db = client['football_stats']"
   ],
   "metadata": {
    "collapsed": false
   }
  },
  {
   "cell_type": "code",
   "execution_count": 3,
   "outputs": [],
   "source": [
    "collection = db['statistics']"
   ],
   "metadata": {
    "collapsed": false
   }
  },
  {
   "cell_type": "code",
   "execution_count": 4,
   "outputs": [],
   "source": [
    "for i in range(10):\n",
    "    statistic  = {\n",
    "        'team' : f'Team {i}',\n",
    "        'goals_scored': random.randint(0, 100),\n",
    "        'goals_conceded': random.randint(0,100),\n",
    "        'yellow_cards': random.randint(0,10),\n",
    "        'red_cards': random.randint(0,3)\n",
    "    }\n",
    "\n",
    "    collection.insert_one(statistic)\n",
    "\n",
    "client.close()"
   ],
   "metadata": {
    "collapsed": false
   }
  },
  {
   "cell_type": "code",
   "execution_count": 5,
   "outputs": [],
   "source": [
    "client = pymongo.MongoClient('mongodb://localhost:27017/')\n",
    "db = client['football_stats']"
   ],
   "metadata": {
    "collapsed": false
   }
  },
  {
   "cell_type": "code",
   "execution_count": 6,
   "outputs": [],
   "source": [
    "collection = db.statistics"
   ],
   "metadata": {
    "collapsed": false
   }
  },
  {
   "cell_type": "code",
   "execution_count": 7,
   "outputs": [],
   "source": [
    "data  = collection.find()"
   ],
   "metadata": {
    "collapsed": false
   }
  },
  {
   "cell_type": "code",
   "execution_count": 8,
   "outputs": [
    {
     "name": "stdout",
     "output_type": "stream",
     "text": [
      "{'_id': ObjectId('6480893cd0f67924dc41f34f'), 'team': 'Team 0', 'goals_scored': 56, 'goals_conceded': 99, 'yellow_cards': 3, 'red_cards': 3}\n",
      "{'_id': ObjectId('6480893cd0f67924dc41f350'), 'team': 'Team 1', 'goals_scored': 18, 'goals_conceded': 99, 'yellow_cards': 9, 'red_cards': 0}\n",
      "{'_id': ObjectId('6480893cd0f67924dc41f351'), 'team': 'Team 2', 'goals_scored': 2, 'goals_conceded': 15, 'yellow_cards': 5, 'red_cards': 3}\n",
      "{'_id': ObjectId('6480893cd0f67924dc41f352'), 'team': 'Team 3', 'goals_scored': 99, 'goals_conceded': 32, 'yellow_cards': 1, 'red_cards': 3}\n",
      "{'_id': ObjectId('6480893cd0f67924dc41f353'), 'team': 'Team 4', 'goals_scored': 35, 'goals_conceded': 95, 'yellow_cards': 3, 'red_cards': 2}\n",
      "{'_id': ObjectId('6480893cd0f67924dc41f354'), 'team': 'Team 5', 'goals_scored': 35, 'goals_conceded': 62, 'yellow_cards': 10, 'red_cards': 2}\n",
      "{'_id': ObjectId('6480893cd0f67924dc41f355'), 'team': 'Team 6', 'goals_scored': 38, 'goals_conceded': 17, 'yellow_cards': 0, 'red_cards': 2}\n",
      "{'_id': ObjectId('6480893cd0f67924dc41f356'), 'team': 'Team 7', 'goals_scored': 91, 'goals_conceded': 65, 'yellow_cards': 6, 'red_cards': 2}\n",
      "{'_id': ObjectId('6480893cd0f67924dc41f357'), 'team': 'Team 8', 'goals_scored': 95, 'goals_conceded': 64, 'yellow_cards': 10, 'red_cards': 0}\n",
      "{'_id': ObjectId('6480893cd0f67924dc41f358'), 'team': 'Team 9', 'goals_scored': 42, 'goals_conceded': 36, 'yellow_cards': 7, 'red_cards': 3}\n",
      "{'_id': ObjectId('64809062d0f67924dc41f35b'), 'team': 'Team 0', 'goals_scored': 16, 'goals_conceded': 38, 'yellow_cards': 6, 'red_cards': 0}\n",
      "{'_id': ObjectId('64809062d0f67924dc41f35c'), 'team': 'Team 1', 'goals_scored': 94, 'goals_conceded': 6, 'yellow_cards': 1, 'red_cards': 1}\n",
      "{'_id': ObjectId('64809062d0f67924dc41f35d'), 'team': 'Team 2', 'goals_scored': 94, 'goals_conceded': 71, 'yellow_cards': 3, 'red_cards': 2}\n",
      "{'_id': ObjectId('64809062d0f67924dc41f35e'), 'team': 'Team 3', 'goals_scored': 95, 'goals_conceded': 98, 'yellow_cards': 6, 'red_cards': 2}\n",
      "{'_id': ObjectId('64809062d0f67924dc41f35f'), 'team': 'Team 4', 'goals_scored': 13, 'goals_conceded': 63, 'yellow_cards': 0, 'red_cards': 3}\n",
      "{'_id': ObjectId('64809062d0f67924dc41f360'), 'team': 'Team 5', 'goals_scored': 42, 'goals_conceded': 6, 'yellow_cards': 8, 'red_cards': 3}\n",
      "{'_id': ObjectId('64809062d0f67924dc41f361'), 'team': 'Team 6', 'goals_scored': 26, 'goals_conceded': 5, 'yellow_cards': 7, 'red_cards': 0}\n",
      "{'_id': ObjectId('64809062d0f67924dc41f362'), 'team': 'Team 7', 'goals_scored': 23, 'goals_conceded': 24, 'yellow_cards': 0, 'red_cards': 0}\n",
      "{'_id': ObjectId('64809062d0f67924dc41f363'), 'team': 'Team 8', 'goals_scored': 64, 'goals_conceded': 100, 'yellow_cards': 6, 'red_cards': 0}\n",
      "{'_id': ObjectId('64809062d0f67924dc41f364'), 'team': 'Team 9', 'goals_scored': 80, 'goals_conceded': 76, 'yellow_cards': 5, 'red_cards': 0}\n",
      "{'_id': ObjectId('6480b581d0f67924dc41f367'), 'team': 'Team 0', 'goals_scored': 41, 'goals_conceded': 88, 'yellow_cards': 9, 'red_cards': 2}\n",
      "{'_id': ObjectId('6480b581d0f67924dc41f368'), 'team': 'Team 1', 'goals_scored': 35, 'goals_conceded': 6, 'yellow_cards': 7, 'red_cards': 1}\n",
      "{'_id': ObjectId('6480b581d0f67924dc41f369'), 'team': 'Team 2', 'goals_scored': 15, 'goals_conceded': 40, 'yellow_cards': 4, 'red_cards': 0}\n",
      "{'_id': ObjectId('6480b581d0f67924dc41f36a'), 'team': 'Team 3', 'goals_scored': 42, 'goals_conceded': 20, 'yellow_cards': 2, 'red_cards': 3}\n",
      "{'_id': ObjectId('6480b581d0f67924dc41f36b'), 'team': 'Team 4', 'goals_scored': 74, 'goals_conceded': 98, 'yellow_cards': 5, 'red_cards': 3}\n",
      "{'_id': ObjectId('6480b581d0f67924dc41f36c'), 'team': 'Team 5', 'goals_scored': 1, 'goals_conceded': 8, 'yellow_cards': 2, 'red_cards': 2}\n",
      "{'_id': ObjectId('6480b581d0f67924dc41f36d'), 'team': 'Team 6', 'goals_scored': 68, 'goals_conceded': 45, 'yellow_cards': 2, 'red_cards': 0}\n",
      "{'_id': ObjectId('6480b581d0f67924dc41f36e'), 'team': 'Team 7', 'goals_scored': 53, 'goals_conceded': 46, 'yellow_cards': 0, 'red_cards': 0}\n",
      "{'_id': ObjectId('6480b581d0f67924dc41f36f'), 'team': 'Team 8', 'goals_scored': 55, 'goals_conceded': 19, 'yellow_cards': 8, 'red_cards': 3}\n",
      "{'_id': ObjectId('6480b581d0f67924dc41f370'), 'team': 'Team 9', 'goals_scored': 47, 'goals_conceded': 65, 'yellow_cards': 8, 'red_cards': 2}\n",
      "{'_id': ObjectId('6481307844b9d83510c50e2e'), 'team': 'Team 0', 'goals_scored': 98, 'goals_conceded': 67, 'yellow_cards': 5, 'red_cards': 1}\n",
      "{'_id': ObjectId('6481307844b9d83510c50e2f'), 'team': 'Team 1', 'goals_scored': 70, 'goals_conceded': 84, 'yellow_cards': 3, 'red_cards': 0}\n",
      "{'_id': ObjectId('6481307844b9d83510c50e30'), 'team': 'Team 2', 'goals_scored': 14, 'goals_conceded': 62, 'yellow_cards': 5, 'red_cards': 1}\n",
      "{'_id': ObjectId('6481307844b9d83510c50e31'), 'team': 'Team 3', 'goals_scored': 24, 'goals_conceded': 33, 'yellow_cards': 8, 'red_cards': 1}\n",
      "{'_id': ObjectId('6481307844b9d83510c50e32'), 'team': 'Team 4', 'goals_scored': 9, 'goals_conceded': 81, 'yellow_cards': 10, 'red_cards': 1}\n",
      "{'_id': ObjectId('6481307844b9d83510c50e33'), 'team': 'Team 5', 'goals_scored': 78, 'goals_conceded': 16, 'yellow_cards': 6, 'red_cards': 1}\n",
      "{'_id': ObjectId('6481307844b9d83510c50e34'), 'team': 'Team 6', 'goals_scored': 10, 'goals_conceded': 18, 'yellow_cards': 9, 'red_cards': 0}\n",
      "{'_id': ObjectId('6481307844b9d83510c50e35'), 'team': 'Team 7', 'goals_scored': 46, 'goals_conceded': 6, 'yellow_cards': 0, 'red_cards': 1}\n",
      "{'_id': ObjectId('6481307844b9d83510c50e36'), 'team': 'Team 8', 'goals_scored': 39, 'goals_conceded': 29, 'yellow_cards': 6, 'red_cards': 0}\n",
      "{'_id': ObjectId('6481307844b9d83510c50e37'), 'team': 'Team 9', 'goals_scored': 15, 'goals_conceded': 99, 'yellow_cards': 9, 'red_cards': 1}\n"
     ]
    }
   ],
   "source": [
    "for document in data:\n",
    "    print(document)"
   ],
   "metadata": {
    "collapsed": false
   }
  },
  {
   "cell_type": "code",
   "execution_count": 9,
   "outputs": [],
   "source": [
    "tm = db['team'].find()"
   ],
   "metadata": {
    "collapsed": false
   }
  },
  {
   "cell_type": "code",
   "execution_count": 10,
   "outputs": [
    {
     "name": "stdout",
     "output_type": "stream",
     "text": [
      "<pymongo.cursor.Cursor object at 0x000001949A4C88B0>\n"
     ]
    }
   ],
   "source": [
    "print(tm)"
   ],
   "metadata": {
    "collapsed": false
   }
  },
  {
   "cell_type": "code",
   "execution_count": 11,
   "outputs": [
    {
     "data": {
      "text/plain": "<pymongo.cursor.Cursor at 0x1949a4c88b0>"
     },
     "execution_count": 11,
     "metadata": {},
     "output_type": "execute_result"
    }
   ],
   "source": [
    "tm"
   ],
   "metadata": {
    "collapsed": false
   }
  },
  {
   "cell_type": "code",
   "execution_count": 12,
   "outputs": [
    {
     "data": {
      "text/plain": "<pymongo.results.InsertManyResult at 0x194988212c0>"
     },
     "execution_count": 12,
     "metadata": {},
     "output_type": "execute_result"
    }
   ],
   "source": [
    "players_data = [\n",
    "    {\n",
    "        'name': 'Lionel Messi',\n",
    "        'age': 34,\n",
    "        'nationality': 'Argentina',\n",
    "        'position': 'Forward',\n",
    "        'avatar': 'https://example.com/messi.jpg',\n",
    "        'goals_scored': random.randint(0, 20),\n",
    "        'assists': random.randint(0, 15),\n",
    "        # Add more player data fields as needed\n",
    "    },\n",
    "    {\n",
    "        'name': 'Cristiano Ronaldo',\n",
    "        'age': 36,\n",
    "        'nationality': 'Portugal',\n",
    "        'position': 'Forward',\n",
    "        'avatar': 'https://example.com/ronaldo.jpg',\n",
    "        'goals_scored': random.randint(0, 20),\n",
    "        'assists': random.randint(0, 15),\n",
    "        # Add more player data fields as needed\n",
    "    },\n",
    "    # Add more player data dictionaries\n",
    "]\n",
    "\n",
    "# Insert players into the MongoDB collection\n",
    "players_collection = db['players']\n",
    "players_collection.insert_many(players_data)"
   ],
   "metadata": {
    "collapsed": false
   }
  },
  {
   "cell_type": "code",
   "execution_count": 13,
   "outputs": [
    {
     "name": "stdout",
     "output_type": "stream",
     "text": [
      "players\n",
      "statistics\n"
     ]
    }
   ],
   "source": [
    "clc = db.list_collection_names()\n",
    "\n",
    "for cl in clc:\n",
    "    print(cl)"
   ],
   "metadata": {
    "collapsed": false
   }
  },
  {
   "cell_type": "code",
   "execution_count": 14,
   "outputs": [],
   "source": [
    "plays = players_collection.find()"
   ],
   "metadata": {
    "collapsed": false
   }
  },
  {
   "cell_type": "code",
   "execution_count": 15,
   "outputs": [
    {
     "name": "stdout",
     "output_type": "stream",
     "text": [
      "{'_id': ObjectId('6480b97cd0f67924dc41f372'), 'name': 'Lionel Messi', 'age': 34, 'nationality': 'Argentina', 'position': 'Forward', 'avatar': 'https://example.com/messi.jpg', 'goals_scored': 0, 'assists': 2}\n",
      "{'_id': ObjectId('6480b97cd0f67924dc41f373'), 'name': 'Cristiano Ronaldo', 'age': 36, 'nationality': 'Portugal', 'position': 'Forward', 'avatar': 'https://example.com/ronaldo.jpg', 'goals_scored': 0, 'assists': 5}\n",
      "{'_id': ObjectId('6481307c44b9d83510c50e39'), 'name': 'Lionel Messi', 'age': 34, 'nationality': 'Argentina', 'position': 'Forward', 'avatar': 'https://example.com/messi.jpg', 'goals_scored': 0, 'assists': 5}\n",
      "{'_id': ObjectId('6481307c44b9d83510c50e3a'), 'name': 'Cristiano Ronaldo', 'age': 36, 'nationality': 'Portugal', 'position': 'Forward', 'avatar': 'https://example.com/ronaldo.jpg', 'goals_scored': 18, 'assists': 8}\n"
     ]
    }
   ],
   "source": [
    "for play in plays:\n",
    "    print(play)"
   ],
   "metadata": {
    "collapsed": false
   }
  },
  {
   "cell_type": "code",
   "execution_count": null,
   "outputs": [],
   "source": [],
   "metadata": {
    "collapsed": false
   }
  }
 ],
 "metadata": {
  "kernelspec": {
   "display_name": "Python 3",
   "language": "python",
   "name": "python3"
  },
  "language_info": {
   "codemirror_mode": {
    "name": "ipython",
    "version": 2
   },
   "file_extension": ".py",
   "mimetype": "text/x-python",
   "name": "python",
   "nbconvert_exporter": "python",
   "pygments_lexer": "ipython2",
   "version": "2.7.6"
  }
 },
 "nbformat": 4,
 "nbformat_minor": 0
}
